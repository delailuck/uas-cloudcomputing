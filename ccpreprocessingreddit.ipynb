{
 "cells": [
  {
   "cell_type": "code",
   "execution_count": 22,
   "id": "24663a78",
   "metadata": {},
   "outputs": [
    {
     "name": "stderr",
     "output_type": "stream",
     "text": [
      "[nltk_data] Downloading package stopwords to\n",
      "[nltk_data]     /Users/delilawiryono/nltk_data...\n",
      "[nltk_data]   Package stopwords is already up-to-date!\n",
      "[nltk_data] Downloading package punkt to\n",
      "[nltk_data]     /Users/delilawiryono/nltk_data...\n",
      "[nltk_data]   Package punkt is already up-to-date!\n",
      "[nltk_data] Downloading package wordnet to\n",
      "[nltk_data]     /Users/delilawiryono/nltk_data...\n",
      "[nltk_data]   Package wordnet is already up-to-date!\n",
      "[nltk_data] Downloading package averaged_perceptron_tagger to\n",
      "[nltk_data]     /Users/delilawiryono/nltk_data...\n",
      "[nltk_data]   Package averaged_perceptron_tagger is already up-to-\n",
      "[nltk_data]       date!\n"
     ]
    },
    {
     "data": {
      "text/plain": [
       "True"
      ]
     },
     "execution_count": 22,
     "metadata": {},
     "output_type": "execute_result"
    }
   ],
   "source": [
    "import pandas as pd\n",
    "import nltk\n",
    "from nltk.corpus import stopwords\n",
    "from nltk.corpus import wordnet\n",
    "from nltk.tokenize import word_tokenize\n",
    "from nltk.stem import WordNetLemmatizer\n",
    "from nltk import pos_tag\n",
    "\n",
    "nltk.download('stopwords')\n",
    "nltk.download('punkt')\n",
    "nltk.download('wordnet')\n",
    "nltk.download('averaged_perceptron_tagger')\n"
   ]
  },
  {
   "cell_type": "code",
   "execution_count": 23,
   "id": "bfce3dc0",
   "metadata": {},
   "outputs": [],
   "source": [
    "def get_wordnet_pos(nltk_pos_tag):\n",
    "    if nltk_pos_tag.startswith('J'):\n",
    "        return wordnet.ADJ\n",
    "    elif nltk_pos_tag.startswith('V'):\n",
    "        return wordnet.VERB\n",
    "    elif nltk_pos_tag.startswith('N'):\n",
    "        return wordnet.NOUN\n",
    "    elif nltk_pos_tag.startswith('R'):\n",
    "        return wordnet.ADV\n",
    "    else:\n",
    "        return wordnet.NOUN  # default noun"
   ]
  },
  {
   "cell_type": "code",
   "execution_count": 24,
   "id": "cf83e892",
   "metadata": {},
   "outputs": [
    {
     "name": "stdout",
     "output_type": "stream",
     "text": [
      "0     the switch 2 is pretty much what i wanted out ...\n",
      "1                                                 agree\n",
      "2     highly recommend picking up the amfilm glass s...\n",
      "3                                              where at\n",
      "4     these are the codes for the amazon products\\n\\...\n",
      "                            ...                        \n",
      "93    ah that part i heard that the system they were...\n",
      "94    hey there\\n\\nplease remember rule 1 in the fut...\n",
      "95                                              removed\n",
      "96    gtboth ntsc and pal versions are available to ...\n",
      "97    my ps5 controller has drift and all ive played...\n",
      "Name: cleaned, Length: 98, dtype: object\n"
     ]
    }
   ],
   "source": [
    "df = pd.read_csv(\"/Users/delilawiryono/Desktop/apifylink.csv\")\n",
    "df[\"cleaned\"] = df[\"body\"].str.lower().str.replace(r\"[^\\w\\s]\", \"\", regex=True)\n",
    "\n",
    "print(df[\"cleaned\"])"
   ]
  },
  {
   "cell_type": "code",
   "execution_count": 25,
   "id": "cf3abcb2",
   "metadata": {},
   "outputs": [
    {
     "name": "stdout",
     "output_type": "stream",
     "text": [
      "0     [the, switch, 2, is, pretty, much, what, i, wa...\n",
      "1                                               [agree]\n",
      "2     [highly, recommend, picking, up, the, amfilm, ...\n",
      "3                                           [where, at]\n",
      "4     [these, are, the, codes, for, the, amazon, pro...\n",
      "                            ...                        \n",
      "93    [ah, that, part, i, heard, that, the, system, ...\n",
      "94    [hey, there, please, remember, rule, 1, in, th...\n",
      "95                                            [removed]\n",
      "96    [gtboth, ntsc, and, pal, versions, are, availa...\n",
      "97    [my, ps5, controller, has, drift, and, all, iv...\n",
      "Name: tokens, Length: 98, dtype: object\n"
     ]
    }
   ],
   "source": [
    "df[\"tokens\"] = df[\"cleaned\"].apply(word_tokenize)\n",
    "print(df[\"tokens\"])"
   ]
  },
  {
   "cell_type": "code",
   "execution_count": 26,
   "id": "62185781",
   "metadata": {},
   "outputs": [],
   "source": [
    "\n",
    "stop_words = set(stopwords.words('english'))\n",
    "\n",
    "df[\"stopwordremove\"] = df[\"tokens\"].apply(lambda x: [word for word in x if word not in stop_words])\n"
   ]
  },
  {
   "cell_type": "code",
   "execution_count": 27,
   "id": "aa9f79b8",
   "metadata": {},
   "outputs": [
    {
     "name": "stdout",
     "output_type": "stream",
     "text": [
      "0     [switch, 2, pretty, much, want, switch, 1, cha...\n",
      "1                                               [agree]\n",
      "2     [highly, recommend, pick, amfilm, glass, scree...\n",
      "3                                                    []\n",
      "4     [code, amazon, product, 3pack, tempered, glass...\n",
      "                            ...                        \n",
      "93    [ah, part, heard, system, accidentally, switch...\n",
      "94    [hey, please, remember, rule, 1, future, perso...\n",
      "95                                             [remove]\n",
      "96    [gtboth, ntsc, pal, version, available, switch...\n",
      "97    [ps5, controller, drift, ive, play, like, 150,...\n",
      "Name: lemmatized, Length: 98, dtype: object\n"
     ]
    }
   ],
   "source": [
    "lemmatizer = WordNetLemmatizer()\n",
    "def lemmatize_tokens(tokens):\n",
    "    pos_tags = pos_tag(tokens)\n",
    "    return [lemmatizer.lemmatize(word, get_wordnet_pos(pos)) for word, pos in pos_tags]\n",
    "\n",
    "df['lemmatized'] = df['stopwordremove'].apply(lemmatize_tokens)\n",
    "print(df[\"lemmatized\"])"
   ]
  },
  {
   "cell_type": "code",
   "execution_count": 28,
   "id": "2857d44c",
   "metadata": {},
   "outputs": [
    {
     "name": "stdout",
     "output_type": "stream",
     "text": [
      "✅ CSV berhasil disimpan sebagai reddit_preprocessed.csv\n"
     ]
    }
   ],
   "source": [
    "df[\"clean_text\"] = df[\"lemmatized\"].apply(lambda tokens: \" \".join(tokens))\n",
    "df.to_csv(\"reddit_final_text.csv\", index=False, encoding=\"utf-8\")\n",
    "\n",
    "print(\"✅ CSV berhasil disimpan sebagai reddit_preprocessed.csv\")\n"
   ]
  }
 ],
 "metadata": {
  "kernelspec": {
   "display_name": "Python 3",
   "language": "python",
   "name": "python3"
  },
  "language_info": {
   "codemirror_mode": {
    "name": "ipython",
    "version": 3
   },
   "file_extension": ".py",
   "mimetype": "text/x-python",
   "name": "python",
   "nbconvert_exporter": "python",
   "pygments_lexer": "ipython3",
   "version": "3.9.6"
  }
 },
 "nbformat": 4,
 "nbformat_minor": 5
}
